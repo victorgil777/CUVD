{
  "nbformat": 4,
  "nbformat_minor": 0,
  "metadata": {
    "colab": {
      "name": "MODELOS DE SEGURIDAD.ipynb",
      "provenance": [],
      "include_colab_link": true
    },
    "kernelspec": {
      "name": "python3",
      "display_name": "Python 3"
    },
    "language_info": {
      "name": "python"
    }
  },
  "cells": [
    {
      "cell_type": "markdown",
      "metadata": {
        "id": "view-in-github",
        "colab_type": "text"
      },
      "source": [
        "<a href=\"https://colab.research.google.com/github/victorgil777/CUVD/blob/main/MODELOS_DE_SEGURIDAD.ipynb\" target=\"_parent\"><img src=\"https://colab.research.google.com/assets/colab-badge.svg\" alt=\"Open In Colab\"/></a>"
      ]
    },
    {
      "cell_type": "markdown",
      "metadata": {
        "id": "AriENjfvu437"
      },
      "source": [
        "\n",
        "\n",
        "\n",
        "**Pronóstico del rendimiento estudiantil en cursos universitarios virtuales a distancia (CUVD).** \n",
        "\n",
        "A continuación se presenta el código que debe guardar en su cuenta de Google Drive."
      ]
    },
    {
      "cell_type": "code",
      "metadata": {
        "id": "4FWgJOHN5EnP"
      },
      "source": [
        "# Primer paso importar la librerias\n",
        "import pandas as pd\n",
        "import matplotlib.pyplot as plt\n",
        "import seaborn as sns\n",
        "from sklearn.preprocessing import LabelEncoder\n",
        "from sklearn.model_selection import train_test_split\n",
        "from sklearn.preprocessing import StandardScaler\n",
        "from sklearn import metrics\n",
        "from sklearn.metrics import confusion_matrix, make_scorer\n",
        "from sklearn.model_selection import cross_validate\n",
        "from sklearn.linear_model import LogisticRegression\n",
        "from sklearn.metrics import roc_auc_score, accuracy_score\n",
        "from sklearn.svm import SVC\n",
        "from sklearn.neighbors import KNeighborsClassifier\n",
        "from sklearn.ensemble import RandomForestClassifier\n",
        "from sklearn.naive_bayes import GaussianNB\n",
        "from sklearn.tree import DecisionTreeClassifier\n",
        "import warnings\n",
        "import tensorflow\n",
        "import numpy as np\n",
        "from tensorflow import keras\n",
        "from sklearn.preprocessing import MinMaxScaler, Normalizer, OrdinalEncoder\n",
        "from tensorflow.keras.models import Sequential, Model\n",
        "from tensorflow.keras.layers import Dense, Dropout, Activation\n",
        "from sklearn.metrics import confusion_matrix\n",
        "from sklearn.model_selection import train_test_split\n",
        "from sklearn.metrics import accuracy_score\n",
        "from sklearn.linear_model import LinearRegression\n",
        "from sklearn.metrics import mean_squared_error\n",
        "from tensorflow.keras.optimizers import Adam, SGD\n",
        "from sklearn.model_selection import GridSearchCV\n",
        "from tensorflow.keras.wrappers.scikit_learn import KerasClassifier\n",
        "from tensorflow.keras.utils import to_categorical\n",
        "warnings.filterwarnings(\"ignore\")"
      ],
      "execution_count": null,
      "outputs": []
    },
    {
      "cell_type": "markdown",
      "metadata": {
        "id": "CbviXAxyvgun"
      },
      "source": [
        "A continuación cargue la base de datos de los estudiantes, recuerde que debe nombrar el archivo \"ESTUDIANTES.csv\"."
      ]
    },
    {
      "cell_type": "code",
      "metadata": {
        "colab": {
          "resources": {
            "http://localhost:8080/nbextensions/google.colab/files.js": {
              "data": "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",
              "ok": true,
              "headers": [
                [
                  "content-type",
                  "application/javascript"
                ]
              ],
              "status": 200,
              "status_text": ""
            }
          },
          "base_uri": "https://localhost:8080/",
          "height": 72
        },
        "id": "E7g3uhSt5LCA",
        "outputId": "65204486-9df9-40ea-86b5-d9b1c0d3f004"
      },
      "source": [
        "from google.colab import files\n",
        "uploaded = files.upload()\n"
      ],
      "execution_count": null,
      "outputs": [
        {
          "output_type": "display_data",
          "data": {
            "text/html": [
              "\n",
              "     <input type=\"file\" id=\"files-48665922-fb4f-4b5f-abc0-4c06d186fccf\" name=\"files[]\" multiple disabled\n",
              "        style=\"border:none\" />\n",
              "     <output id=\"result-48665922-fb4f-4b5f-abc0-4c06d186fccf\">\n",
              "      Upload widget is only available when the cell has been executed in the\n",
              "      current browser session. Please rerun this cell to enable.\n",
              "      </output>\n",
              "      <script src=\"/nbextensions/google.colab/files.js\"></script> "
            ],
            "text/plain": [
              "<IPython.core.display.HTML object>"
            ]
          },
          "metadata": {
            "tags": []
          }
        },
        {
          "output_type": "stream",
          "text": [
            "Saving ESTUDIANTES.csv to ESTUDIANTES.csv\n"
          ],
          "name": "stdout"
        }
      ]
    },
    {
      "cell_type": "code",
      "metadata": {
        "colab": {
          "base_uri": "https://localhost:8080/"
        },
        "id": "vVpYBKGg5RFO",
        "outputId": "ade390ed-4217-4a08-aa6b-a9052bc2da5a"
      },
      "source": [
        "for name, data in uploaded.items():\n",
        "  with open(name, 'wb') as f:\n",
        "    f.write(data)\n",
        "    print ('ESTUDIANTES', name)\n"
      ],
      "execution_count": null,
      "outputs": [
        {
          "output_type": "stream",
          "text": [
            "ESTUDIANTES ESTUDIANTES.csv\n"
          ],
          "name": "stdout"
        }
      ]
    },
    {
      "cell_type": "code",
      "metadata": {
        "id": "zvGdTaXp5WCd"
      },
      "source": [
        "import pandas as pd\n",
        "df = pd.read_csv('ESTUDIANTES.csv')\n"
      ],
      "execution_count": null,
      "outputs": []
    },
    {
      "cell_type": "code",
      "metadata": {
        "id": "ZF6IKmLu5Z2l"
      },
      "source": [
        "df = df.sample(frac=1)"
      ],
      "execution_count": null,
      "outputs": []
    },
    {
      "cell_type": "code",
      "metadata": {
        "colab": {
          "base_uri": "https://localhost:8080/"
        },
        "id": "TsHzZXd_5cpF",
        "outputId": "e753866c-9dc2-45b1-a05a-ff1fbd65436c"
      },
      "source": [
        "print(df.shape)"
      ],
      "execution_count": null,
      "outputs": [
        {
          "output_type": "stream",
          "text": [
            "(1340, 6)\n"
          ],
          "name": "stdout"
        }
      ]
    },
    {
      "cell_type": "code",
      "metadata": {
        "colab": {
          "base_uri": "https://localhost:8080/",
          "height": 204
        },
        "id": "9q8C-4RR5fBd",
        "outputId": "14ed1088-dd4c-4454-f384-a64daf0f2112"
      },
      "source": [
        "df.head()"
      ],
      "execution_count": null,
      "outputs": [
        {
          "output_type": "execute_result",
          "data": {
            "text/html": [
              "<div>\n",
              "<style scoped>\n",
              "    .dataframe tbody tr th:only-of-type {\n",
              "        vertical-align: middle;\n",
              "    }\n",
              "\n",
              "    .dataframe tbody tr th {\n",
              "        vertical-align: top;\n",
              "    }\n",
              "\n",
              "    .dataframe thead th {\n",
              "        text-align: right;\n",
              "    }\n",
              "</style>\n",
              "<table border=\"1\" class=\"dataframe\">\n",
              "  <thead>\n",
              "    <tr style=\"text-align: right;\">\n",
              "      <th></th>\n",
              "      <th>Resultado_final</th>\n",
              "      <th>Edad</th>\n",
              "      <th>Estrato</th>\n",
              "      <th>Genero</th>\n",
              "      <th>Creditos_aprobados</th>\n",
              "      <th>Total_clics</th>\n",
              "    </tr>\n",
              "  </thead>\n",
              "  <tbody>\n",
              "    <tr>\n",
              "      <th>362</th>\n",
              "      <td>0</td>\n",
              "      <td>21</td>\n",
              "      <td>3</td>\n",
              "      <td>1</td>\n",
              "      <td>112</td>\n",
              "      <td>132</td>\n",
              "    </tr>\n",
              "    <tr>\n",
              "      <th>1283</th>\n",
              "      <td>1</td>\n",
              "      <td>18</td>\n",
              "      <td>1</td>\n",
              "      <td>1</td>\n",
              "      <td>99</td>\n",
              "      <td>72</td>\n",
              "    </tr>\n",
              "    <tr>\n",
              "      <th>1132</th>\n",
              "      <td>0</td>\n",
              "      <td>19</td>\n",
              "      <td>3</td>\n",
              "      <td>1</td>\n",
              "      <td>70</td>\n",
              "      <td>45</td>\n",
              "    </tr>\n",
              "    <tr>\n",
              "      <th>803</th>\n",
              "      <td>0</td>\n",
              "      <td>23</td>\n",
              "      <td>4</td>\n",
              "      <td>1</td>\n",
              "      <td>115</td>\n",
              "      <td>135</td>\n",
              "    </tr>\n",
              "    <tr>\n",
              "      <th>867</th>\n",
              "      <td>0</td>\n",
              "      <td>21</td>\n",
              "      <td>3</td>\n",
              "      <td>0</td>\n",
              "      <td>75</td>\n",
              "      <td>67</td>\n",
              "    </tr>\n",
              "  </tbody>\n",
              "</table>\n",
              "</div>"
            ],
            "text/plain": [
              "      Resultado_final  Edad  Estrato  Genero  Creditos_aprobados  Total_clics\n",
              "362                 0    21        3       1                 112          132\n",
              "1283                1    18        1       1                  99           72\n",
              "1132                0    19        3       1                  70           45\n",
              "803                 0    23        4       1                 115          135\n",
              "867                 0    21        3       0                  75           67"
            ]
          },
          "metadata": {
            "tags": []
          },
          "execution_count": 7
        }
      ]
    },
    {
      "cell_type": "code",
      "metadata": {
        "id": "Av4zXKta57Pe"
      },
      "source": [
        "# Rango del Quartil\n",
        "\n",
        "Q1 = df.quantile(0.25)\n",
        "Q3 = df.quantile(0.75)\n",
        "inter_quartile_range = Q3 - Q1"
      ],
      "execution_count": null,
      "outputs": []
    },
    {
      "cell_type": "code",
      "metadata": {
        "colab": {
          "base_uri": "https://localhost:8080/"
        },
        "id": "cpGBWv5359N_",
        "outputId": "c628cf4b-1c00-4865-94c8-ad7bc57b6f61"
      },
      "source": [
        "# Rango de los cuartiles e intercuartiles\n",
        "\n",
        "df_out = df[~((df < (Q1 - (1.5 * inter_quartile_range))) | (df > (Q3 + (1.5 * inter_quartile_range)))).any(axis=1)]\n",
        "df.shape, df_out.shape"
      ],
      "execution_count": null,
      "outputs": [
        {
          "output_type": "execute_result",
          "data": {
            "text/plain": [
              "((1340, 6), (1332, 6))"
            ]
          },
          "metadata": {
            "tags": []
          },
          "execution_count": 9
        }
      ]
    },
    {
      "cell_type": "code",
      "metadata": {
        "id": "YlKKjy3e6AC-"
      },
      "source": [
        "# Definr la etiqueta de salida y lvas variables predictoras\n",
        "X = df_out.drop(columns=['Resultado_final'])\n",
        "y = df_out['Resultado_final']"
      ],
      "execution_count": null,
      "outputs": []
    },
    {
      "cell_type": "code",
      "metadata": {
        "colab": {
          "base_uri": "https://localhost:8080/"
        },
        "id": "b2HPlTkc6DNW",
        "outputId": "0c9a1fa3-6ed7-4f4d-c730-bb1de26b3ef8"
      },
      "source": [
        "# Definir el conjunto de entrenamiento y el conjunto de prueba\n",
        "X_train, X_test, y_train, y_test = train_test_split(X, y, test_size=0.3)\n",
        "# we used 30% test data\n",
        "# check the size before beginning\n",
        "X_train.shape, X_test.shape, y_train.shape, y_test.shape"
      ],
      "execution_count": null,
      "outputs": [
        {
          "output_type": "execute_result",
          "data": {
            "text/plain": [
              "((932, 5), (400, 5), (932,), (400,))"
            ]
          },
          "metadata": {
            "tags": []
          },
          "execution_count": 11
        }
      ]
    },
    {
      "cell_type": "code",
      "metadata": {
        "id": "dErTE4k46H69"
      },
      "source": [
        "# Función par calcular la validación cruzada\n",
        "def tn(y_true, y_pred):\n",
        "    return confusion_matrix(y_true, y_pred)[0, 0]"
      ],
      "execution_count": null,
      "outputs": []
    },
    {
      "cell_type": "code",
      "metadata": {
        "id": "3Sr18M3z6K82"
      },
      "source": [
        "def fp(y_true, y_pred):\n",
        "    return confusion_matrix(y_true, y_pred)[0, 1]"
      ],
      "execution_count": null,
      "outputs": []
    },
    {
      "cell_type": "code",
      "metadata": {
        "id": "coWfVQ6o6Nk1"
      },
      "source": [
        "def fn(y_true, y_pred):\n",
        "    return confusion_matrix(y_true, y_pred)[1, 0]"
      ],
      "execution_count": null,
      "outputs": []
    },
    {
      "cell_type": "code",
      "metadata": {
        "id": "j-SKwoKg6QSQ"
      },
      "source": [
        "def tp(y_true, y_pred):\n",
        "    return confusion_matrix(y_true, y_pred)[1, 1]"
      ],
      "execution_count": null,
      "outputs": []
    },
    {
      "cell_type": "code",
      "metadata": {
        "id": "ryAebq7A6T19"
      },
      "source": [
        "def acc(y_true, y_pred):\n",
        "    return accuracy(y_true, y_pred)"
      ],
      "execution_count": null,
      "outputs": []
    },
    {
      "cell_type": "code",
      "metadata": {
        "id": "eH5XSe9K6WRW"
      },
      "source": [
        "# Accuracy\n",
        "def accuracy(y_true, y_pred):\n",
        "    cnf_matrix = confusion_matrix(y_true, y_pred)\n",
        "    N = sum(map(sum, cnf_matrix))\n",
        "    tp = cnf_matrix[1, 1]\n",
        "    tn = cnf_matrix[0, 0]\n",
        "    return round((tp + tn) / N, 2)"
      ],
      "execution_count": null,
      "outputs": []
    },
    {
      "cell_type": "code",
      "metadata": {
        "id": "-rKYLMpE6ZAP"
      },
      "source": [
        "# Propósito de la validación cruzada\n",
        "scoring = {'accuracy': make_scorer(metrics.accuracy_score), 'prec': 'precision'}\n",
        "scoring = {'tp': make_scorer(tp), 'tn': make_scorer(tn),\n",
        "           'fp': make_scorer(fp), 'fn': make_scorer(fn),\n",
        "           'acc': make_scorer(acc)}"
      ],
      "execution_count": null,
      "outputs": []
    },
    {
      "cell_type": "code",
      "metadata": {
        "id": "daHjPm5Q6cK1"
      },
      "source": [
        "def print_result(result):\n",
        "    print(\"True Positive: \", result['test_tp'])\n",
        "    print(\"True Negative: \", result['test_tn'])\n",
        "    print(\"False Negative: \", result['test_fn'])\n",
        "    print(\"False Positive: \", result['test_fp'])\n",
        "    print(\"Accuracy: \", result['test_acc'])"
      ],
      "execution_count": null,
      "outputs": []
    },
    {
      "cell_type": "code",
      "metadata": {
        "id": "w-wfSuVg6dd3"
      },
      "source": [
        "# Lista alamcenada de las acc y rcc de las salidas de cada modelo\n",
        "acc = []\n",
        "roc = []"
      ],
      "execution_count": null,
      "outputs": []
    },
    {
      "cell_type": "code",
      "metadata": {
        "id": "xIb0fjpu6gne"
      },
      "source": [
        "# Primer Modelo - Naive Bayes\n",
        "model = GaussianNB()\n",
        "model.fit(X_train, y_train)\n",
        "y_pred = model.predict(X_test)\n",
        "y_pred_train = model.predict(X_train)"
      ],
      "execution_count": null,
      "outputs": []
    },
    {
      "cell_type": "code",
      "metadata": {
        "colab": {
          "base_uri": "https://localhost:8080/"
        },
        "id": "3nhqwMW_6lvP",
        "outputId": "cebd4b5c-1d44-40b4-ca7e-521f3a4a2e90"
      },
      "source": [
        "ac = accuracy_score(y_test, y_pred)\n",
        "acc.append(ac)\n",
        "ac_train = accuracy_score(y_train, y_pred_train)\n",
        "rc = roc_auc_score(y_test, y_pred)\n",
        "roc.append(rc)\n",
        "print(\"Naive Bayes : \")\n",
        "print(\"Training Set Accuracy : \", ac_train)\n",
        "print(\"Test Set Accuracy {0} ROC {1}\".format(ac, rc))"
      ],
      "execution_count": null,
      "outputs": [
        {
          "output_type": "stream",
          "text": [
            "Naive Bayes : \n",
            "Training Set Accuracy :  0.8047210300429185\n",
            "Test Set Accuracy 0.7575 ROC 0.7606416066826623\n"
          ],
          "name": "stdout"
        }
      ]
    },
    {
      "cell_type": "code",
      "metadata": {
        "colab": {
          "base_uri": "https://localhost:8080/"
        },
        "id": "CN2HCl4T6oGw",
        "outputId": "8a11c004-f653-4b0c-d51f-ecff5cadc81f"
      },
      "source": [
        "# Validación cruzada\n",
        "result = cross_validate(model, X_train, y_train, scoring=scoring, cv=10)\n",
        "print_result(result)"
      ],
      "execution_count": null,
      "outputs": [
        {
          "output_type": "stream",
          "text": [
            "True Positive:  [26 23 25 25 23 24 29 23 31 30]\n",
            "True Negative:  [50 52 45 50 49 48 44 56 42 50]\n",
            "False Negative:  [7 9 7 7 9 8 3 9 1 2]\n",
            "False Positive:  [11 10 16 11 12 13 17  5 19 11]\n",
            "Accuracy:  [0.81 0.8  0.75 0.81 0.77 0.77 0.78 0.85 0.78 0.86]\n"
          ],
          "name": "stdout"
        }
      ]
    },
    {
      "cell_type": "code",
      "metadata": {
        "id": "3HQvU-Nf6rYI"
      },
      "source": [
        "# Segundo Modelo - Regresión logística\n",
        "LR = LogisticRegression()\n",
        "LR.fit(X_train, y_train)\n",
        "LR.score(X_train, y_train)\n",
        "y_pred = LR.predict(X_test)\n",
        "y_pred_train = model.predict(X_train)"
      ],
      "execution_count": null,
      "outputs": []
    },
    {
      "cell_type": "code",
      "metadata": {
        "colab": {
          "base_uri": "https://localhost:8080/"
        },
        "id": "Olf3kDt66uJu",
        "outputId": "a491559e-e9e3-403e-a3ca-ea3dc54e2e8a"
      },
      "source": [
        "# Accuracy\n",
        "ac = accuracy_score(y_test, y_pred)\n",
        "acc.append(ac)\n",
        "ac_train = accuracy_score(y_train, y_pred_train)\n",
        "# Code for ROC_AUC curve\n",
        "rc = roc_auc_score(y_test, y_pred)\n",
        "roc.append(rc)\n",
        "print(\"****************************************************\")\n",
        "print(\"Logistic Regression : \")\n",
        "print(\"Training Set Accuracy : \", ac_train)\n",
        "print(\"Test Set Accuracy {0} ROC {1}\".format(ac, rc))"
      ],
      "execution_count": null,
      "outputs": [
        {
          "output_type": "stream",
          "text": [
            "****************************************************\n",
            "Logistic Regression : \n",
            "Training Set Accuracy :  0.8047210300429185\n",
            "Test Set Accuracy 0.8175 ROC 0.7802511922746528\n"
          ],
          "name": "stdout"
        }
      ]
    },
    {
      "cell_type": "code",
      "metadata": {
        "colab": {
          "base_uri": "https://localhost:8080/"
        },
        "id": "KMX1Gw_86xwY",
        "outputId": "cef1224a-b6ae-482f-ba30-3f3a3d761f4a"
      },
      "source": [
        "# La validación cruzada muestra la precisión del modelo\n",
        "result = cross_validate(LR, X_train, y_train, scoring=scoring, cv=10)\n",
        "print_result(result)"
      ],
      "execution_count": null,
      "outputs": [
        {
          "output_type": "stream",
          "text": [
            "True Positive:  [19 18 21 19 20 18 27 21 27 23]\n",
            "True Negative:  [54 58 53 53 56 55 50 57 55 55]\n",
            "False Negative:  [14 14 11 13 12 14  5 11  5  9]\n",
            "False Positive:  [ 7  4  8  8  5  6 11  4  6  6]\n",
            "Accuracy:  [0.78 0.81 0.8  0.77 0.82 0.78 0.83 0.84 0.88 0.84]\n"
          ],
          "name": "stdout"
        }
      ]
    },
    {
      "cell_type": "code",
      "metadata": {
        "id": "dEpFzWwj60fo"
      },
      "source": [
        "# Tercer Modelo - Support Vector Machine\n",
        "model = SVC(gamma='auto', kernel='linear')\n",
        "model.fit(X_train, y_train)\n",
        "y_pred = model.predict(X_test)\n",
        "y_pred_train = model.predict(X_train)"
      ],
      "execution_count": null,
      "outputs": []
    },
    {
      "cell_type": "code",
      "metadata": {
        "colab": {
          "base_uri": "https://localhost:8080/"
        },
        "id": "oGwNBasF63VA",
        "outputId": "4895bd94-209a-4869-df6e-2796299be28d"
      },
      "source": [
        "ac = accuracy_score(y_test, y_pred)\n",
        "acc.append(ac)\n",
        "ac_train = accuracy_score(y_train, y_pred_train)\n",
        "rc = roc_auc_score(y_test, y_pred)\n",
        "roc.append(rc)\n",
        "print(\"****************************************************\")\n",
        "print(\"Support Vector Machine : \")\n",
        "print(\"Training Set Accuracy : \", ac_train)\n",
        "print(\"Test Set Accuracy {0} ROC {1}\".format(ac, rc))"
      ],
      "execution_count": null,
      "outputs": [
        {
          "output_type": "stream",
          "text": [
            "****************************************************\n",
            "Support Vector Machine : \n",
            "Training Set Accuracy :  0.842274678111588\n",
            "Test Set Accuracy 0.8725 ROC 0.8243579489913802\n"
          ],
          "name": "stdout"
        }
      ]
    },
    {
      "cell_type": "code",
      "metadata": {
        "colab": {
          "base_uri": "https://localhost:8080/"
        },
        "id": "M0O2ljQN67ug",
        "outputId": "dcf779f1-0291-43aa-c509-e8906ce46be8"
      },
      "source": [
        "# Validación cruzada\n",
        "result = cross_validate(model, X_train, y_train, scoring=scoring, cv=10)\n",
        "print_result(result)"
      ],
      "execution_count": null,
      "outputs": [
        {
          "output_type": "stream",
          "text": [
            "True Positive:  [21 16 18 21 20 18 26 22 28 23]\n",
            "True Negative:  [56 59 54 57 56 57 55 57 60 57]\n",
            "False Negative:  [12 16 14 11 12 14  6 10  4  9]\n",
            "False Positive:  [5 3 7 4 5 4 6 4 1 4]\n",
            "Accuracy:  [0.82 0.8  0.77 0.84 0.82 0.81 0.87 0.85 0.95 0.86]\n"
          ],
          "name": "stdout"
        }
      ]
    },
    {
      "cell_type": "code",
      "metadata": {
        "id": "0J1YR6Bd7AdR"
      },
      "source": [
        "# Cuarto Modelo - KNN\n",
        "model = KNeighborsClassifier(n_neighbors=9, n_jobs=-1)\n",
        "model.fit(X_train, y_train)\n",
        "y_pred = model.predict(X_test)\n",
        "y_pred_train = model.predict(X_train)"
      ],
      "execution_count": null,
      "outputs": []
    },
    {
      "cell_type": "code",
      "metadata": {
        "colab": {
          "base_uri": "https://localhost:8080/"
        },
        "id": "xD9XcIYy7HVO",
        "outputId": "982276be-3fd7-4ea0-96f2-e3d88e1fe9cb"
      },
      "source": [
        "ac = accuracy_score(y_test, y_pred)\n",
        "acc.append(ac)\n",
        "ac_train = accuracy_score(y_train, y_pred_train)\n",
        "rc = roc_auc_score(y_test, y_pred)\n",
        "roc.append(rc)\n",
        "print(\"****************************************************\")\n",
        "print(\"K-Nearest Neighbors : \")\n",
        "print(\"Training Set Accuracy : \", ac_train)\n",
        "print(\"Accuracy {0} ROC {1}\".format(ac, rc))"
      ],
      "execution_count": null,
      "outputs": [
        {
          "output_type": "stream",
          "text": [
            "****************************************************\n",
            "K-Nearest Neighbors : \n",
            "Training Set Accuracy :  0.871244635193133\n",
            "Accuracy 0.845 ROC 0.8116650374714891\n"
          ],
          "name": "stdout"
        }
      ]
    },
    {
      "cell_type": "code",
      "metadata": {
        "colab": {
          "base_uri": "https://localhost:8080/"
        },
        "id": "1A7DE_m37JHY",
        "outputId": "b9edc6b4-9561-49f8-ac38-501a7bb3bf64"
      },
      "source": [
        "# Validación cruzada\n",
        "result = cross_validate(model, X_train, y_train, scoring=scoring, cv=10)\n",
        "print_result(result)"
      ],
      "execution_count": null,
      "outputs": [
        {
          "output_type": "stream",
          "text": [
            "True Positive:  [23 19 19 25 22 21 22 21 29 21]\n",
            "True Negative:  [58 60 55 58 56 58 54 58 54 56]\n",
            "False Negative:  [10 13 13  7 10 11 10 11  3 11]\n",
            "False Positive:  [3 2 6 3 5 3 7 3 7 5]\n",
            "Accuracy:  [0.86 0.84 0.8  0.89 0.84 0.85 0.82 0.85 0.89 0.83]\n"
          ],
          "name": "stdout"
        }
      ]
    },
    {
      "cell_type": "code",
      "metadata": {
        "id": "rNLx2qN07MSw"
      },
      "source": [
        "# Quinto Modelo - Random Forest\n",
        "model = RandomForestClassifier(n_estimators=20, max_depth=10)\n",
        "model.fit(X_train, y_train)\n",
        "y_pred = model.predict(X_test)\n",
        "y_pred_train = model.predict(X_train)"
      ],
      "execution_count": null,
      "outputs": []
    },
    {
      "cell_type": "code",
      "metadata": {
        "colab": {
          "base_uri": "https://localhost:8080/"
        },
        "id": "EoRQ3b0c7OnW",
        "outputId": "fc708c15-d677-4645-ad59-7ac6d4f70cd2"
      },
      "source": [
        "ac = accuracy_score(y_test, y_pred)\n",
        "acc.append(ac)\n",
        "ac_train = accuracy_score(y_train, y_pred_train)\n",
        "rc = roc_auc_score(y_test, y_pred)\n",
        "roc.append(rc)\n",
        "print(\"****************************************************\")\n",
        "print(\"Random Forest : \")\n",
        "print(\"Training Set Accuracy : \", ac_train)\n",
        "print(\"Accuracy {0} ROC {1}\".format(ac, rc))"
      ],
      "execution_count": null,
      "outputs": [
        {
          "output_type": "stream",
          "text": [
            "****************************************************\n",
            "Random Forest : \n",
            "Training Set Accuracy :  0.9753218884120172\n",
            "Accuracy 0.865 ROC 0.8283420717438313\n"
          ],
          "name": "stdout"
        }
      ]
    },
    {
      "cell_type": "code",
      "metadata": {
        "colab": {
          "base_uri": "https://localhost:8080/"
        },
        "id": "Brb4Y9t27RsH",
        "outputId": "e87d4fb8-0a45-4c4e-9c7d-8e04c738103b"
      },
      "source": [
        "# Validación cruzada\n",
        "result = cross_validate(model, X_train, y_train, scoring=scoring, cv=10)\n",
        "print_result(result)"
      ],
      "execution_count": null,
      "outputs": [
        {
          "output_type": "stream",
          "text": [
            "True Positive:  [26 21 19 24 23 19 24 22 29 24]\n",
            "True Negative:  [54 57 55 53 52 54 51 57 54 55]\n",
            "False Negative:  [ 7 11 13  8  9 13  8 10  3  8]\n",
            "False Positive:  [ 7  5  6  8  9  7 10  4  7  6]\n",
            "Accuracy:  [0.85 0.83 0.8  0.83 0.81 0.78 0.81 0.85 0.89 0.85]\n"
          ],
          "name": "stdout"
        }
      ]
    },
    {
      "cell_type": "code",
      "metadata": {
        "colab": {
          "base_uri": "https://localhost:8080/"
        },
        "id": "M9EqADsGEaht",
        "outputId": "b7874e05-d156-4ad6-defb-57edbfd552d4"
      },
      "source": [
        "# Sexto Modelo - Árboles de decisión\n",
        "model = DecisionTreeClassifier(criterion = 'entropy', random_state=0)\n",
        "model.fit(X_train,y_train)\n"
      ],
      "execution_count": null,
      "outputs": [
        {
          "output_type": "execute_result",
          "data": {
            "text/plain": [
              "DecisionTreeClassifier(ccp_alpha=0.0, class_weight=None, criterion='entropy',\n",
              "                       max_depth=None, max_features=None, max_leaf_nodes=None,\n",
              "                       min_impurity_decrease=0.0, min_impurity_split=None,\n",
              "                       min_samples_leaf=1, min_samples_split=2,\n",
              "                       min_weight_fraction_leaf=0.0, presort='deprecated',\n",
              "                       random_state=0, splitter='best')"
            ]
          },
          "metadata": {
            "tags": []
          },
          "execution_count": 36
        }
      ]
    },
    {
      "cell_type": "code",
      "metadata": {
        "colab": {
          "base_uri": "https://localhost:8080/"
        },
        "id": "aonKlLRDGdGQ",
        "outputId": "67819819-9611-4790-8774-051033654a56"
      },
      "source": [
        "ac = accuracy_score(y_test, y_pred)\n",
        "acc.append(ac)\n",
        "ac_train = accuracy_score(y_train, y_pred_train)\n",
        "rc = roc_auc_score(y_test, y_pred)\n",
        "roc.append(rc)\n",
        "print(\"****************************************************\")\n",
        "print(\"Decision Tree : \")\n",
        "print(\"Training Set Accuracy : \", ac_train)\n",
        "print(\"Accuracy {0} ROC {1}\".format(ac, rc))"
      ],
      "execution_count": null,
      "outputs": [
        {
          "output_type": "stream",
          "text": [
            "****************************************************\n",
            "Decision Tree : \n",
            "Training Set Accuracy :  0.9753218884120172\n",
            "Accuracy 0.865 ROC 0.8283420717438313\n"
          ],
          "name": "stdout"
        }
      ]
    },
    {
      "cell_type": "code",
      "metadata": {
        "colab": {
          "base_uri": "https://localhost:8080/"
        },
        "id": "tq0wrHp8G2Dp",
        "outputId": "6dfcdc21-7604-4a7f-f3dd-acbbdc1aa0e5"
      },
      "source": [
        "# Validacion cruzada\n",
        "result = cross_validate(model, X_train, y_train, scoring=scoring, cv=10)\n",
        "print_result(result)"
      ],
      "execution_count": null,
      "outputs": [
        {
          "output_type": "stream",
          "text": [
            "True Positive:  [27 21 22 23 26 19 25 22 28 23]\n",
            "True Negative:  [56 52 54 53 48 53 45 52 46 53]\n",
            "False Negative:  [ 6 11 10  9  6 13  7 10  4  9]\n",
            "False Positive:  [ 5 10  7  8 13  8 16  9 15  8]\n",
            "Accuracy:  [0.88 0.78 0.82 0.82 0.8  0.77 0.75 0.8  0.8  0.82]\n"
          ],
          "name": "stdout"
        }
      ]
    },
    {
      "cell_type": "code",
      "metadata": {
        "id": "h2GmBlmUuYJV"
      },
      "source": [
        "# Septimo Modelo - Red Neuronal Artificial\n",
        "scaler = MinMaxScaler()\n",
        "df_transform = scaler.fit_transform(df)"
      ],
      "execution_count": null,
      "outputs": []
    },
    {
      "cell_type": "code",
      "metadata": {
        "id": "wjrW1uR6uZBf"
      },
      "source": [
        "# Fixing random seed for reproducibility\n",
        "seed = 85\n",
        "np.random.seed(seed)\n",
        "\n",
        "# Function to create model, required for KerasClassifier\n",
        "def create_model():\n",
        "  # create model\n",
        "  model = Sequential()\n",
        "  model.add(Dense(5, input_dim=5, activation='relu'))\n",
        "  #model.add(Dropout(0.2))  # <-- added these later to see effect on score\n",
        "  model.add(Dense(4, activation='sigmoid'))\n",
        "  #model.add(Dropout(0.2))  # <-- added these later to see effect on score, omitted from baseline.\n",
        "  model.add(Dense(1, activation='sigmoid'))\n",
        "\n",
        "  # compile model\n",
        "  adam = Adam(lr=0.01, beta_1=0.9, beta_2=0.999, epsilon=1e-8)\n",
        "  model.compile(loss='binary_crossentropy', optimizer=adam, metrics=['accuracy'])\n",
        "  print(model.summary())\n",
        "  return model\n",
        "\n",
        "# create model\n",
        "model = KerasClassifier(build_fn=create_model, verbose=0)"
      ],
      "execution_count": null,
      "outputs": []
    },
    {
      "cell_type": "code",
      "metadata": {
        "colab": {
          "base_uri": "https://localhost:8080/"
        },
        "id": "pBa1NYHTub0c",
        "outputId": "4d261f7f-0cf9-45db-e26a-9a6a7ef28059"
      },
      "source": [
        "model.fit(X_train, y_train,\n",
        "          validation_data=(X_test,y_test),\n",
        "          epochs=100,\n",
        "          batch_size=32,\n",
        "          verbose=1)"
      ],
      "execution_count": null,
      "outputs": [
        {
          "output_type": "stream",
          "text": [
            "Model: \"sequential\"\n",
            "_________________________________________________________________\n",
            "Layer (type)                 Output Shape              Param #   \n",
            "=================================================================\n",
            "dense (Dense)                (None, 5)                 30        \n",
            "_________________________________________________________________\n",
            "dense_1 (Dense)              (None, 4)                 24        \n",
            "_________________________________________________________________\n",
            "dense_2 (Dense)              (None, 1)                 5         \n",
            "=================================================================\n",
            "Total params: 59\n",
            "Trainable params: 59\n",
            "Non-trainable params: 0\n",
            "_________________________________________________________________\n",
            "None\n",
            "Epoch 1/100\n",
            "30/30 [==============================] - 1s 19ms/step - loss: 0.5825 - accuracy: 0.7270 - val_loss: 0.4675 - val_accuracy: 0.8575\n",
            "Epoch 2/100\n",
            "30/30 [==============================] - 0s 3ms/step - loss: 0.4874 - accuracy: 0.8258 - val_loss: 0.4238 - val_accuracy: 0.8675\n",
            "Epoch 3/100\n",
            "30/30 [==============================] - 0s 3ms/step - loss: 0.4458 - accuracy: 0.8460 - val_loss: 0.4058 - val_accuracy: 0.8675\n",
            "Epoch 4/100\n",
            "30/30 [==============================] - 0s 3ms/step - loss: 0.4421 - accuracy: 0.8374 - val_loss: 0.3975 - val_accuracy: 0.8725\n",
            "Epoch 5/100\n",
            "30/30 [==============================] - 0s 3ms/step - loss: 0.4380 - accuracy: 0.8415 - val_loss: 0.3817 - val_accuracy: 0.8750\n",
            "Epoch 6/100\n",
            "30/30 [==============================] - 0s 3ms/step - loss: 0.4266 - accuracy: 0.8434 - val_loss: 0.3781 - val_accuracy: 0.8775\n",
            "Epoch 7/100\n",
            "30/30 [==============================] - 0s 3ms/step - loss: 0.4087 - accuracy: 0.8545 - val_loss: 0.3774 - val_accuracy: 0.8825\n",
            "Epoch 8/100\n",
            "30/30 [==============================] - 0s 3ms/step - loss: 0.4390 - accuracy: 0.8306 - val_loss: 0.3943 - val_accuracy: 0.8675\n",
            "Epoch 9/100\n",
            "30/30 [==============================] - 0s 3ms/step - loss: 0.4115 - accuracy: 0.8582 - val_loss: 0.3738 - val_accuracy: 0.8825\n",
            "Epoch 10/100\n",
            "30/30 [==============================] - 0s 3ms/step - loss: 0.4382 - accuracy: 0.8343 - val_loss: 0.3773 - val_accuracy: 0.8725\n",
            "Epoch 11/100\n",
            "30/30 [==============================] - 0s 3ms/step - loss: 0.4546 - accuracy: 0.8195 - val_loss: 0.3807 - val_accuracy: 0.8800\n",
            "Epoch 12/100\n",
            "30/30 [==============================] - 0s 3ms/step - loss: 0.4123 - accuracy: 0.8444 - val_loss: 0.3803 - val_accuracy: 0.8775\n",
            "Epoch 13/100\n",
            "30/30 [==============================] - 0s 3ms/step - loss: 0.4158 - accuracy: 0.8429 - val_loss: 0.3776 - val_accuracy: 0.8800\n",
            "Epoch 14/100\n",
            "30/30 [==============================] - 0s 3ms/step - loss: 0.3995 - accuracy: 0.8442 - val_loss: 0.3770 - val_accuracy: 0.8775\n",
            "Epoch 15/100\n",
            "30/30 [==============================] - 0s 3ms/step - loss: 0.4464 - accuracy: 0.8230 - val_loss: 0.3839 - val_accuracy: 0.8725\n",
            "Epoch 16/100\n",
            "30/30 [==============================] - 0s 3ms/step - loss: 0.4183 - accuracy: 0.8403 - val_loss: 0.3770 - val_accuracy: 0.8775\n",
            "Epoch 17/100\n",
            "30/30 [==============================] - 0s 3ms/step - loss: 0.4162 - accuracy: 0.8423 - val_loss: 0.3884 - val_accuracy: 0.8700\n",
            "Epoch 18/100\n",
            "30/30 [==============================] - 0s 3ms/step - loss: 0.4084 - accuracy: 0.8338 - val_loss: 0.3778 - val_accuracy: 0.8775\n",
            "Epoch 19/100\n",
            "30/30 [==============================] - 0s 3ms/step - loss: 0.3920 - accuracy: 0.8552 - val_loss: 0.3798 - val_accuracy: 0.8775\n",
            "Epoch 20/100\n",
            "30/30 [==============================] - 0s 3ms/step - loss: 0.4417 - accuracy: 0.8165 - val_loss: 0.3823 - val_accuracy: 0.8675\n",
            "Epoch 21/100\n",
            "30/30 [==============================] - 0s 3ms/step - loss: 0.4361 - accuracy: 0.8393 - val_loss: 0.3763 - val_accuracy: 0.8775\n",
            "Epoch 22/100\n",
            "30/30 [==============================] - 0s 3ms/step - loss: 0.3935 - accuracy: 0.8488 - val_loss: 0.3804 - val_accuracy: 0.8725\n",
            "Epoch 23/100\n",
            "30/30 [==============================] - 0s 3ms/step - loss: 0.3920 - accuracy: 0.8535 - val_loss: 0.3845 - val_accuracy: 0.8725\n",
            "Epoch 24/100\n",
            "30/30 [==============================] - 0s 3ms/step - loss: 0.3875 - accuracy: 0.8464 - val_loss: 0.3835 - val_accuracy: 0.8775\n",
            "Epoch 25/100\n",
            "30/30 [==============================] - 0s 3ms/step - loss: 0.4179 - accuracy: 0.8416 - val_loss: 0.3819 - val_accuracy: 0.8775\n",
            "Epoch 26/100\n",
            "30/30 [==============================] - 0s 3ms/step - loss: 0.3895 - accuracy: 0.8492 - val_loss: 0.3820 - val_accuracy: 0.8775\n",
            "Epoch 27/100\n",
            "30/30 [==============================] - 0s 3ms/step - loss: 0.3889 - accuracy: 0.8582 - val_loss: 0.3853 - val_accuracy: 0.8725\n",
            "Epoch 28/100\n",
            "30/30 [==============================] - 0s 3ms/step - loss: 0.4190 - accuracy: 0.8365 - val_loss: 0.3876 - val_accuracy: 0.8725\n",
            "Epoch 29/100\n",
            "30/30 [==============================] - 0s 3ms/step - loss: 0.4359 - accuracy: 0.8365 - val_loss: 0.3768 - val_accuracy: 0.8800\n",
            "Epoch 30/100\n",
            "30/30 [==============================] - 0s 3ms/step - loss: 0.3950 - accuracy: 0.8513 - val_loss: 0.3810 - val_accuracy: 0.8775\n",
            "Epoch 31/100\n",
            "30/30 [==============================] - 0s 3ms/step - loss: 0.3738 - accuracy: 0.8647 - val_loss: 0.3873 - val_accuracy: 0.8725\n",
            "Epoch 32/100\n",
            "30/30 [==============================] - 0s 3ms/step - loss: 0.4144 - accuracy: 0.8340 - val_loss: 0.3805 - val_accuracy: 0.8775\n",
            "Epoch 33/100\n",
            "30/30 [==============================] - 0s 3ms/step - loss: 0.4235 - accuracy: 0.8380 - val_loss: 0.3842 - val_accuracy: 0.8725\n",
            "Epoch 34/100\n",
            "30/30 [==============================] - 0s 3ms/step - loss: 0.3920 - accuracy: 0.8442 - val_loss: 0.3868 - val_accuracy: 0.8725\n",
            "Epoch 35/100\n",
            "30/30 [==============================] - 0s 3ms/step - loss: 0.4467 - accuracy: 0.8127 - val_loss: 0.3823 - val_accuracy: 0.8725\n",
            "Epoch 36/100\n",
            "30/30 [==============================] - 0s 3ms/step - loss: 0.4104 - accuracy: 0.8338 - val_loss: 0.3953 - val_accuracy: 0.8575\n",
            "Epoch 37/100\n",
            "30/30 [==============================] - 0s 3ms/step - loss: 0.4123 - accuracy: 0.8411 - val_loss: 0.3768 - val_accuracy: 0.8775\n",
            "Epoch 38/100\n",
            "30/30 [==============================] - 0s 3ms/step - loss: 0.3993 - accuracy: 0.8338 - val_loss: 0.3860 - val_accuracy: 0.8725\n",
            "Epoch 39/100\n",
            "30/30 [==============================] - 0s 3ms/step - loss: 0.4222 - accuracy: 0.8325 - val_loss: 0.3756 - val_accuracy: 0.8750\n",
            "Epoch 40/100\n",
            "30/30 [==============================] - 0s 3ms/step - loss: 0.4452 - accuracy: 0.8205 - val_loss: 0.3805 - val_accuracy: 0.8725\n",
            "Epoch 41/100\n",
            "30/30 [==============================] - 0s 3ms/step - loss: 0.3936 - accuracy: 0.8383 - val_loss: 0.3564 - val_accuracy: 0.8800\n",
            "Epoch 42/100\n",
            "30/30 [==============================] - 0s 3ms/step - loss: 0.4138 - accuracy: 0.8258 - val_loss: 0.3584 - val_accuracy: 0.8775\n",
            "Epoch 43/100\n",
            "30/30 [==============================] - 0s 3ms/step - loss: 0.3619 - accuracy: 0.8621 - val_loss: 0.3545 - val_accuracy: 0.8750\n",
            "Epoch 44/100\n",
            "30/30 [==============================] - 0s 3ms/step - loss: 0.3713 - accuracy: 0.8478 - val_loss: 0.3486 - val_accuracy: 0.8800\n",
            "Epoch 45/100\n",
            "30/30 [==============================] - 0s 3ms/step - loss: 0.3775 - accuracy: 0.8475 - val_loss: 0.3497 - val_accuracy: 0.8800\n",
            "Epoch 46/100\n",
            "30/30 [==============================] - 0s 3ms/step - loss: 0.3728 - accuracy: 0.8491 - val_loss: 0.3616 - val_accuracy: 0.8675\n",
            "Epoch 47/100\n",
            "30/30 [==============================] - 0s 3ms/step - loss: 0.3868 - accuracy: 0.8421 - val_loss: 0.3525 - val_accuracy: 0.8725\n",
            "Epoch 48/100\n",
            "30/30 [==============================] - 0s 3ms/step - loss: 0.4239 - accuracy: 0.8187 - val_loss: 0.3500 - val_accuracy: 0.8750\n",
            "Epoch 49/100\n",
            "30/30 [==============================] - 0s 3ms/step - loss: 0.3975 - accuracy: 0.8405 - val_loss: 0.3490 - val_accuracy: 0.8775\n",
            "Epoch 50/100\n",
            "30/30 [==============================] - 0s 3ms/step - loss: 0.3919 - accuracy: 0.8326 - val_loss: 0.3491 - val_accuracy: 0.8750\n",
            "Epoch 51/100\n",
            "30/30 [==============================] - 0s 3ms/step - loss: 0.3753 - accuracy: 0.8466 - val_loss: 0.3497 - val_accuracy: 0.8750\n",
            "Epoch 52/100\n",
            "30/30 [==============================] - 0s 3ms/step - loss: 0.3704 - accuracy: 0.8479 - val_loss: 0.3452 - val_accuracy: 0.8775\n",
            "Epoch 53/100\n",
            "30/30 [==============================] - 0s 3ms/step - loss: 0.3536 - accuracy: 0.8551 - val_loss: 0.3626 - val_accuracy: 0.8625\n",
            "Epoch 54/100\n",
            "30/30 [==============================] - 0s 3ms/step - loss: 0.3688 - accuracy: 0.8507 - val_loss: 0.3496 - val_accuracy: 0.8725\n",
            "Epoch 55/100\n",
            "30/30 [==============================] - 0s 3ms/step - loss: 0.3723 - accuracy: 0.8460 - val_loss: 0.3483 - val_accuracy: 0.8725\n",
            "Epoch 56/100\n",
            "30/30 [==============================] - 0s 3ms/step - loss: 0.3757 - accuracy: 0.8435 - val_loss: 0.3475 - val_accuracy: 0.8725\n",
            "Epoch 57/100\n",
            "30/30 [==============================] - 0s 3ms/step - loss: 0.3833 - accuracy: 0.8268 - val_loss: 0.3495 - val_accuracy: 0.8700\n",
            "Epoch 58/100\n",
            "30/30 [==============================] - 0s 3ms/step - loss: 0.3951 - accuracy: 0.8361 - val_loss: 0.3490 - val_accuracy: 0.8675\n",
            "Epoch 59/100\n",
            "30/30 [==============================] - 0s 3ms/step - loss: 0.3802 - accuracy: 0.8351 - val_loss: 0.3470 - val_accuracy: 0.8750\n",
            "Epoch 60/100\n",
            "30/30 [==============================] - 0s 3ms/step - loss: 0.3735 - accuracy: 0.8374 - val_loss: 0.3409 - val_accuracy: 0.8775\n",
            "Epoch 61/100\n",
            "30/30 [==============================] - 0s 3ms/step - loss: 0.3584 - accuracy: 0.8652 - val_loss: 0.3593 - val_accuracy: 0.8600\n",
            "Epoch 62/100\n",
            "30/30 [==============================] - 0s 2ms/step - loss: 0.3535 - accuracy: 0.8616 - val_loss: 0.3394 - val_accuracy: 0.8750\n",
            "Epoch 63/100\n",
            "30/30 [==============================] - 0s 3ms/step - loss: 0.3720 - accuracy: 0.8413 - val_loss: 0.3675 - val_accuracy: 0.8525\n",
            "Epoch 64/100\n",
            "30/30 [==============================] - 0s 3ms/step - loss: 0.3826 - accuracy: 0.8367 - val_loss: 0.3491 - val_accuracy: 0.8775\n",
            "Epoch 65/100\n",
            "30/30 [==============================] - 0s 3ms/step - loss: 0.3553 - accuracy: 0.8559 - val_loss: 0.3461 - val_accuracy: 0.8700\n",
            "Epoch 66/100\n",
            "30/30 [==============================] - 0s 3ms/step - loss: 0.3738 - accuracy: 0.8358 - val_loss: 0.3494 - val_accuracy: 0.8750\n",
            "Epoch 67/100\n",
            "30/30 [==============================] - 0s 3ms/step - loss: 0.3840 - accuracy: 0.8386 - val_loss: 0.3434 - val_accuracy: 0.8700\n",
            "Epoch 68/100\n",
            "30/30 [==============================] - 0s 2ms/step - loss: 0.3661 - accuracy: 0.8495 - val_loss: 0.3380 - val_accuracy: 0.8750\n",
            "Epoch 69/100\n",
            "30/30 [==============================] - 0s 3ms/step - loss: 0.3585 - accuracy: 0.8469 - val_loss: 0.3387 - val_accuracy: 0.8800\n",
            "Epoch 70/100\n",
            "30/30 [==============================] - 0s 3ms/step - loss: 0.3588 - accuracy: 0.8472 - val_loss: 0.3559 - val_accuracy: 0.8650\n",
            "Epoch 71/100\n",
            "30/30 [==============================] - 0s 3ms/step - loss: 0.3732 - accuracy: 0.8472 - val_loss: 0.3417 - val_accuracy: 0.8725\n",
            "Epoch 72/100\n",
            "30/30 [==============================] - 0s 3ms/step - loss: 0.3643 - accuracy: 0.8398 - val_loss: 0.3386 - val_accuracy: 0.8800\n",
            "Epoch 73/100\n",
            "30/30 [==============================] - 0s 3ms/step - loss: 0.3639 - accuracy: 0.8334 - val_loss: 0.3508 - val_accuracy: 0.8700\n",
            "Epoch 74/100\n",
            "30/30 [==============================] - 0s 3ms/step - loss: 0.3636 - accuracy: 0.8531 - val_loss: 0.3478 - val_accuracy: 0.8725\n",
            "Epoch 75/100\n",
            "30/30 [==============================] - 0s 3ms/step - loss: 0.3743 - accuracy: 0.8270 - val_loss: 0.3478 - val_accuracy: 0.8725\n",
            "Epoch 76/100\n",
            "30/30 [==============================] - 0s 3ms/step - loss: 0.3593 - accuracy: 0.8539 - val_loss: 0.3438 - val_accuracy: 0.8750\n",
            "Epoch 77/100\n",
            "30/30 [==============================] - 0s 3ms/step - loss: 0.3809 - accuracy: 0.8398 - val_loss: 0.3412 - val_accuracy: 0.8700\n",
            "Epoch 78/100\n",
            "30/30 [==============================] - 0s 3ms/step - loss: 0.3766 - accuracy: 0.8352 - val_loss: 0.3450 - val_accuracy: 0.8700\n",
            "Epoch 79/100\n",
            "30/30 [==============================] - 0s 3ms/step - loss: 0.3553 - accuracy: 0.8509 - val_loss: 0.3385 - val_accuracy: 0.8700\n",
            "Epoch 80/100\n",
            "30/30 [==============================] - 0s 3ms/step - loss: 0.3610 - accuracy: 0.8515 - val_loss: 0.3459 - val_accuracy: 0.8725\n",
            "Epoch 81/100\n",
            "30/30 [==============================] - 0s 3ms/step - loss: 0.3616 - accuracy: 0.8457 - val_loss: 0.3352 - val_accuracy: 0.8725\n",
            "Epoch 82/100\n",
            "30/30 [==============================] - 0s 3ms/step - loss: 0.3642 - accuracy: 0.8431 - val_loss: 0.3454 - val_accuracy: 0.8725\n",
            "Epoch 83/100\n",
            "30/30 [==============================] - 0s 3ms/step - loss: 0.3864 - accuracy: 0.8275 - val_loss: 0.3428 - val_accuracy: 0.8725\n",
            "Epoch 84/100\n",
            "30/30 [==============================] - 0s 3ms/step - loss: 0.3744 - accuracy: 0.8437 - val_loss: 0.3411 - val_accuracy: 0.8700\n",
            "Epoch 85/100\n",
            "30/30 [==============================] - 0s 3ms/step - loss: 0.3493 - accuracy: 0.8546 - val_loss: 0.3481 - val_accuracy: 0.8675\n",
            "Epoch 86/100\n",
            "30/30 [==============================] - 0s 3ms/step - loss: 0.4139 - accuracy: 0.8193 - val_loss: 0.3479 - val_accuracy: 0.8725\n",
            "Epoch 87/100\n",
            "30/30 [==============================] - 0s 3ms/step - loss: 0.3720 - accuracy: 0.8402 - val_loss: 0.3422 - val_accuracy: 0.8725\n",
            "Epoch 88/100\n",
            "30/30 [==============================] - 0s 3ms/step - loss: 0.3705 - accuracy: 0.8428 - val_loss: 0.3444 - val_accuracy: 0.8725\n",
            "Epoch 89/100\n",
            "30/30 [==============================] - 0s 3ms/step - loss: 0.3599 - accuracy: 0.8515 - val_loss: 0.3482 - val_accuracy: 0.8650\n",
            "Epoch 90/100\n",
            "30/30 [==============================] - 0s 3ms/step - loss: 0.4004 - accuracy: 0.8272 - val_loss: 0.3517 - val_accuracy: 0.8650\n",
            "Epoch 91/100\n",
            "30/30 [==============================] - 0s 3ms/step - loss: 0.3732 - accuracy: 0.8363 - val_loss: 0.3387 - val_accuracy: 0.8675\n",
            "Epoch 92/100\n",
            "30/30 [==============================] - 0s 3ms/step - loss: 0.3701 - accuracy: 0.8415 - val_loss: 0.3355 - val_accuracy: 0.8750\n",
            "Epoch 93/100\n",
            "30/30 [==============================] - 0s 3ms/step - loss: 0.3694 - accuracy: 0.8358 - val_loss: 0.3467 - val_accuracy: 0.8700\n",
            "Epoch 94/100\n",
            "30/30 [==============================] - 0s 3ms/step - loss: 0.3742 - accuracy: 0.8437 - val_loss: 0.3371 - val_accuracy: 0.8800\n",
            "Epoch 95/100\n",
            "30/30 [==============================] - 0s 3ms/step - loss: 0.3689 - accuracy: 0.8445 - val_loss: 0.3375 - val_accuracy: 0.8700\n",
            "Epoch 96/100\n",
            "30/30 [==============================] - 0s 3ms/step - loss: 0.3700 - accuracy: 0.8394 - val_loss: 0.3414 - val_accuracy: 0.8700\n",
            "Epoch 97/100\n",
            "30/30 [==============================] - 0s 3ms/step - loss: 0.3687 - accuracy: 0.8364 - val_loss: 0.3360 - val_accuracy: 0.8675\n",
            "Epoch 98/100\n",
            "30/30 [==============================] - 0s 3ms/step - loss: 0.3856 - accuracy: 0.8313 - val_loss: 0.3480 - val_accuracy: 0.8625\n",
            "Epoch 99/100\n",
            "30/30 [==============================] - 0s 3ms/step - loss: 0.3755 - accuracy: 0.8331 - val_loss: 0.3424 - val_accuracy: 0.8700\n",
            "Epoch 100/100\n",
            "30/30 [==============================] - 0s 3ms/step - loss: 0.3579 - accuracy: 0.8461 - val_loss: 0.3468 - val_accuracy: 0.8700\n"
          ],
          "name": "stdout"
        },
        {
          "output_type": "execute_result",
          "data": {
            "text/plain": [
              "<tensorflow.python.keras.callbacks.History at 0x7f44e50f9c50>"
            ]
          },
          "metadata": {
            "tags": []
          },
          "execution_count": 41
        }
      ]
    },
    {
      "cell_type": "code",
      "metadata": {
        "colab": {
          "base_uri": "https://localhost:8080/"
        },
        "id": "t_a8Qj_2ug_F",
        "outputId": "6129f9fb-12e6-421a-cb10-d60e6d092eb8"
      },
      "source": [
        "print(f\"Accuracy: {accuracy_score(np.round(model.predict(X_test)),y_test)}\")"
      ],
      "execution_count": null,
      "outputs": [
        {
          "output_type": "stream",
          "text": [
            "Accuracy: 0.87\n"
          ],
          "name": "stdout"
        }
      ]
    },
    {
      "cell_type": "code",
      "metadata": {
        "colab": {
          "base_uri": "https://localhost:8080/"
        },
        "id": "HSiZX3gXujhq",
        "outputId": "e4d96fc3-db6f-4c40-a07f-208379b42756"
      },
      "source": [
        "y_pred=model.predict(X_test)\n",
        "confusion_matrix(y_test,y_pred)"
      ],
      "execution_count": null,
      "outputs": [
        {
          "output_type": "execute_result",
          "data": {
            "text/plain": [
              "array([[264,  15],\n",
              "       [ 37,  84]])"
            ]
          },
          "metadata": {
            "tags": []
          },
          "execution_count": 43
        }
      ]
    },
    {
      "cell_type": "code",
      "metadata": {
        "id": "FWW7qcHrukNa"
      },
      "source": [
        "# Encontrar los mejores parámetros\n",
        "# Function to create model, required for KerasClassifier:\n",
        "def gridsearch_create_model():\n",
        "  # create model\n",
        "  model = Sequential()\n",
        "  model.add(Dense(5, input_dim=5, activation='relu'))\n",
        "  model.add(Dense(4, activation='sigmoid'))\n",
        "  model.add(Dense(1, activation='sigmoid'))\n",
        "\n",
        "  # compile model\n",
        "  adam = Adam(lr=0.001, beta_1=0.9, beta_2=0.999, epsilon=1e-8)\n",
        "  model.compile(loss='binary_crossentropy', optimizer=adam, metrics=['accuracy'])\n",
        "\n",
        "  return model\n",
        "\n",
        "  # create model\n",
        "model2 = KerasClassifier(build_fn=gridsearch_create_model, verbose=0)\n",
        "\n",
        "  # define the grid search parameters\n",
        "param_grid = {'batch_size': [32, 64, 128, 256, 512],\n",
        "                'epochs': [100]}\n",
        "\n",
        "                # see \"Results, with tuning:\" cell below for version changes\n",
        "                # note: original batch_size: [10, 20, 40, 60, 80, 100],"
      ],
      "execution_count": null,
      "outputs": []
    },
    {
      "cell_type": "code",
      "metadata": {
        "colab": {
          "base_uri": "https://localhost:8080/"
        },
        "id": "90-dayxuunEq",
        "outputId": "211f38ed-4cf5-4e3a-e7c1-fa5604c521ba"
      },
      "source": [
        "# Create grid search\n",
        "grid = GridSearchCV(estimator=model2, param_grid=param_grid)\n",
        "grid_result = grid.fit(X_train, y_train)"
      ],
      "execution_count": null,
      "outputs": [
        {
          "output_type": "stream",
          "text": [
            "WARNING:tensorflow:5 out of the last 16 calls to <function Model.make_test_function.<locals>.test_function at 0x7f44d648fc20> triggered tf.function retracing. Tracing is expensive and the excessive number of tracings could be due to (1) creating @tf.function repeatedly in a loop, (2) passing tensors with different shapes, (3) passing Python objects instead of tensors. For (1), please define your @tf.function outside of the loop. For (2), @tf.function has experimental_relax_shapes=True option that relaxes argument shapes that can avoid unnecessary retracing. For (3), please refer to https://www.tensorflow.org/guide/function#controlling_retracing and https://www.tensorflow.org/api_docs/python/tf/function for  more details.\n",
            "WARNING:tensorflow:5 out of the last 13 calls to <function Model.make_test_function.<locals>.test_function at 0x7f44d5310a70> triggered tf.function retracing. Tracing is expensive and the excessive number of tracings could be due to (1) creating @tf.function repeatedly in a loop, (2) passing tensors with different shapes, (3) passing Python objects instead of tensors. For (1), please define your @tf.function outside of the loop. For (2), @tf.function has experimental_relax_shapes=True option that relaxes argument shapes that can avoid unnecessary retracing. For (3), please refer to https://www.tensorflow.org/guide/function#controlling_retracing and https://www.tensorflow.org/api_docs/python/tf/function for  more details.\n",
            "WARNING:tensorflow:5 out of the last 13 calls to <function Model.make_test_function.<locals>.test_function at 0x7f44d40fe950> triggered tf.function retracing. Tracing is expensive and the excessive number of tracings could be due to (1) creating @tf.function repeatedly in a loop, (2) passing tensors with different shapes, (3) passing Python objects instead of tensors. For (1), please define your @tf.function outside of the loop. For (2), @tf.function has experimental_relax_shapes=True option that relaxes argument shapes that can avoid unnecessary retracing. For (3), please refer to https://www.tensorflow.org/guide/function#controlling_retracing and https://www.tensorflow.org/api_docs/python/tf/function for  more details.\n",
            "WARNING:tensorflow:5 out of the last 12 calls to <function Model.make_test_function.<locals>.test_function at 0x7f44d6ce1560> triggered tf.function retracing. Tracing is expensive and the excessive number of tracings could be due to (1) creating @tf.function repeatedly in a loop, (2) passing tensors with different shapes, (3) passing Python objects instead of tensors. For (1), please define your @tf.function outside of the loop. For (2), @tf.function has experimental_relax_shapes=True option that relaxes argument shapes that can avoid unnecessary retracing. For (3), please refer to https://www.tensorflow.org/guide/function#controlling_retracing and https://www.tensorflow.org/api_docs/python/tf/function for  more details.\n",
            "WARNING:tensorflow:5 out of the last 11 calls to <function Model.make_test_function.<locals>.test_function at 0x7f44d5b91f80> triggered tf.function retracing. Tracing is expensive and the excessive number of tracings could be due to (1) creating @tf.function repeatedly in a loop, (2) passing tensors with different shapes, (3) passing Python objects instead of tensors. For (1), please define your @tf.function outside of the loop. For (2), @tf.function has experimental_relax_shapes=True option that relaxes argument shapes that can avoid unnecessary retracing. For (3), please refer to https://www.tensorflow.org/guide/function#controlling_retracing and https://www.tensorflow.org/api_docs/python/tf/function for  more details.\n",
            "WARNING:tensorflow:6 out of the last 13 calls to <function Model.make_test_function.<locals>.test_function at 0x7f44d75fb8c0> triggered tf.function retracing. Tracing is expensive and the excessive number of tracings could be due to (1) creating @tf.function repeatedly in a loop, (2) passing tensors with different shapes, (3) passing Python objects instead of tensors. For (1), please define your @tf.function outside of the loop. For (2), @tf.function has experimental_relax_shapes=True option that relaxes argument shapes that can avoid unnecessary retracing. For (3), please refer to https://www.tensorflow.org/guide/function#controlling_retracing and https://www.tensorflow.org/api_docs/python/tf/function for  more details.\n",
            "WARNING:tensorflow:6 out of the last 12 calls to <function Model.make_test_function.<locals>.test_function at 0x7f44df00dc20> triggered tf.function retracing. Tracing is expensive and the excessive number of tracings could be due to (1) creating @tf.function repeatedly in a loop, (2) passing tensors with different shapes, (3) passing Python objects instead of tensors. For (1), please define your @tf.function outside of the loop. For (2), @tf.function has experimental_relax_shapes=True option that relaxes argument shapes that can avoid unnecessary retracing. For (3), please refer to https://www.tensorflow.org/guide/function#controlling_retracing and https://www.tensorflow.org/api_docs/python/tf/function for  more details.\n",
            "WARNING:tensorflow:6 out of the last 11 calls to <function Model.make_test_function.<locals>.test_function at 0x7f44defdf4d0> triggered tf.function retracing. Tracing is expensive and the excessive number of tracings could be due to (1) creating @tf.function repeatedly in a loop, (2) passing tensors with different shapes, (3) passing Python objects instead of tensors. For (1), please define your @tf.function outside of the loop. For (2), @tf.function has experimental_relax_shapes=True option that relaxes argument shapes that can avoid unnecessary retracing. For (3), please refer to https://www.tensorflow.org/guide/function#controlling_retracing and https://www.tensorflow.org/api_docs/python/tf/function for  more details.\n",
            "WARNING:tensorflow:7 out of the last 12 calls to <function Model.make_test_function.<locals>.test_function at 0x7f44defdff80> triggered tf.function retracing. Tracing is expensive and the excessive number of tracings could be due to (1) creating @tf.function repeatedly in a loop, (2) passing tensors with different shapes, (3) passing Python objects instead of tensors. For (1), please define your @tf.function outside of the loop. For (2), @tf.function has experimental_relax_shapes=True option that relaxes argument shapes that can avoid unnecessary retracing. For (3), please refer to https://www.tensorflow.org/guide/function#controlling_retracing and https://www.tensorflow.org/api_docs/python/tf/function for  more details.\n",
            "WARNING:tensorflow:7 out of the last 11 calls to <function Model.make_test_function.<locals>.test_function at 0x7f44dd55ad40> triggered tf.function retracing. Tracing is expensive and the excessive number of tracings could be due to (1) creating @tf.function repeatedly in a loop, (2) passing tensors with different shapes, (3) passing Python objects instead of tensors. For (1), please define your @tf.function outside of the loop. For (2), @tf.function has experimental_relax_shapes=True option that relaxes argument shapes that can avoid unnecessary retracing. For (3), please refer to https://www.tensorflow.org/guide/function#controlling_retracing and https://www.tensorflow.org/api_docs/python/tf/function for  more details.\n",
            "WARNING:tensorflow:8 out of the last 12 calls to <function Model.make_test_function.<locals>.test_function at 0x7f44d41a2c20> triggered tf.function retracing. Tracing is expensive and the excessive number of tracings could be due to (1) creating @tf.function repeatedly in a loop, (2) passing tensors with different shapes, (3) passing Python objects instead of tensors. For (1), please define your @tf.function outside of the loop. For (2), @tf.function has experimental_relax_shapes=True option that relaxes argument shapes that can avoid unnecessary retracing. For (3), please refer to https://www.tensorflow.org/guide/function#controlling_retracing and https://www.tensorflow.org/api_docs/python/tf/function for  more details.\n",
            "WARNING:tensorflow:8 out of the last 11 calls to <function Model.make_test_function.<locals>.test_function at 0x7f44d52747a0> triggered tf.function retracing. Tracing is expensive and the excessive number of tracings could be due to (1) creating @tf.function repeatedly in a loop, (2) passing tensors with different shapes, (3) passing Python objects instead of tensors. For (1), please define your @tf.function outside of the loop. For (2), @tf.function has experimental_relax_shapes=True option that relaxes argument shapes that can avoid unnecessary retracing. For (3), please refer to https://www.tensorflow.org/guide/function#controlling_retracing and https://www.tensorflow.org/api_docs/python/tf/function for  more details.\n",
            "WARNING:tensorflow:9 out of the last 12 calls to <function Model.make_test_function.<locals>.test_function at 0x7f44ddf8ba70> triggered tf.function retracing. Tracing is expensive and the excessive number of tracings could be due to (1) creating @tf.function repeatedly in a loop, (2) passing tensors with different shapes, (3) passing Python objects instead of tensors. For (1), please define your @tf.function outside of the loop. For (2), @tf.function has experimental_relax_shapes=True option that relaxes argument shapes that can avoid unnecessary retracing. For (3), please refer to https://www.tensorflow.org/guide/function#controlling_retracing and https://www.tensorflow.org/api_docs/python/tf/function for  more details.\n",
            "WARNING:tensorflow:9 out of the last 11 calls to <function Model.make_test_function.<locals>.test_function at 0x7f44d530a170> triggered tf.function retracing. Tracing is expensive and the excessive number of tracings could be due to (1) creating @tf.function repeatedly in a loop, (2) passing tensors with different shapes, (3) passing Python objects instead of tensors. For (1), please define your @tf.function outside of the loop. For (2), @tf.function has experimental_relax_shapes=True option that relaxes argument shapes that can avoid unnecessary retracing. For (3), please refer to https://www.tensorflow.org/guide/function#controlling_retracing and https://www.tensorflow.org/api_docs/python/tf/function for  more details.\n",
            "WARNING:tensorflow:10 out of the last 12 calls to <function Model.make_test_function.<locals>.test_function at 0x7f44dd47a3b0> triggered tf.function retracing. Tracing is expensive and the excessive number of tracings could be due to (1) creating @tf.function repeatedly in a loop, (2) passing tensors with different shapes, (3) passing Python objects instead of tensors. For (1), please define your @tf.function outside of the loop. For (2), @tf.function has experimental_relax_shapes=True option that relaxes argument shapes that can avoid unnecessary retracing. For (3), please refer to https://www.tensorflow.org/guide/function#controlling_retracing and https://www.tensorflow.org/api_docs/python/tf/function for  more details.\n",
            "WARNING:tensorflow:10 out of the last 11 calls to <function Model.make_test_function.<locals>.test_function at 0x7f44ee73b290> triggered tf.function retracing. Tracing is expensive and the excessive number of tracings could be due to (1) creating @tf.function repeatedly in a loop, (2) passing tensors with different shapes, (3) passing Python objects instead of tensors. For (1), please define your @tf.function outside of the loop. For (2), @tf.function has experimental_relax_shapes=True option that relaxes argument shapes that can avoid unnecessary retracing. For (3), please refer to https://www.tensorflow.org/guide/function#controlling_retracing and https://www.tensorflow.org/api_docs/python/tf/function for  more details.\n",
            "WARNING:tensorflow:11 out of the last 12 calls to <function Model.make_test_function.<locals>.test_function at 0x7f44d5b919e0> triggered tf.function retracing. Tracing is expensive and the excessive number of tracings could be due to (1) creating @tf.function repeatedly in a loop, (2) passing tensors with different shapes, (3) passing Python objects instead of tensors. For (1), please define your @tf.function outside of the loop. For (2), @tf.function has experimental_relax_shapes=True option that relaxes argument shapes that can avoid unnecessary retracing. For (3), please refer to https://www.tensorflow.org/guide/function#controlling_retracing and https://www.tensorflow.org/api_docs/python/tf/function for  more details.\n"
          ],
          "name": "stdout"
        }
      ]
    },
    {
      "cell_type": "code",
      "metadata": {
        "colab": {
          "base_uri": "https://localhost:8080/"
        },
        "id": "FM-CgRZZupIa",
        "outputId": "409fdc0a-e2ff-43b6-ecec-3dc1e22fcc99"
      },
      "source": [
        "# Report Results\n",
        "print(f\"Best: {grid_result.best_score_} using {grid_result.best_params_}\")\n",
        "means = grid_result.cv_results_['mean_test_score']\n",
        "stds = grid_result.cv_results_['std_test_score']\n",
        "params = grid_result.cv_results_['params']\n",
        "for mean, stdev, param in zip(means, stds, params):\n",
        "  print(f\"Means: {mean}, Stdev: {stdev} with: {params}\")"
      ],
      "execution_count": null,
      "outputs": [
        {
          "output_type": "stream",
          "text": [
            "Best: 0.8348053574562073 using {'batch_size': 128, 'epochs': 100}\n",
            "Means: 0.8100454211235046, Stdev: 0.08424034760142785 with: [{'batch_size': 32, 'epochs': 100}, {'batch_size': 64, 'epochs': 100}, {'batch_size': 128, 'epochs': 100}, {'batch_size': 256, 'epochs': 100}, {'batch_size': 512, 'epochs': 100}]\n",
            "Means: 0.8110976934432983, Stdev: 0.07694546329281274 with: [{'batch_size': 32, 'epochs': 100}, {'batch_size': 64, 'epochs': 100}, {'batch_size': 128, 'epochs': 100}, {'batch_size': 256, 'epochs': 100}, {'batch_size': 512, 'epochs': 100}]\n",
            "Means: 0.8348053574562073, Stdev: 0.04052673574360078 with: [{'batch_size': 32, 'epochs': 100}, {'batch_size': 64, 'epochs': 100}, {'batch_size': 128, 'epochs': 100}, {'batch_size': 256, 'epochs': 100}, {'batch_size': 512, 'epochs': 100}]\n",
            "Means: 0.6621988415718079, Stdev: 0.18101564663191708 with: [{'batch_size': 32, 'epochs': 100}, {'batch_size': 64, 'epochs': 100}, {'batch_size': 128, 'epochs': 100}, {'batch_size': 256, 'epochs': 100}, {'batch_size': 512, 'epochs': 100}]\n",
            "Means: 0.7125697255134582, Stdev: 0.07769724045300608 with: [{'batch_size': 32, 'epochs': 100}, {'batch_size': 64, 'epochs': 100}, {'batch_size': 128, 'epochs': 100}, {'batch_size': 256, 'epochs': 100}, {'batch_size': 512, 'epochs': 100}]\n"
          ],
          "name": "stdout"
        }
      ]
    }
  ]
}